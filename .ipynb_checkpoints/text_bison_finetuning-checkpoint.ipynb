{
 "cells": [
  {
   "cell_type": "code",
   "execution_count": 31,
   "id": "6e8e6db1-b927-4f06-8fcc-0bbfbcdbb6b4",
   "metadata": {
    "tags": []
   },
   "outputs": [],
   "source": [
    "import kfp\n",
    "import matplotlib.pyplot as plt\n",
    "import pandas as pd\n",
    "import requests\n",
    "from typing import List, Tuple\n",
    "\n",
    "import os\n",
    "from kfp import dsl\n",
    "from kfp.v2 import compiler\n",
    "from kfp.v2.dsl import (Artifact, Dataset, Input, InputPath, Model, Output,\n",
    "                        OutputPath, ClassificationMetrics, Metrics, component,pipeline)"
   ]
  },
  {
   "cell_type": "code",
   "execution_count": 32,
   "id": "d31a5f0b-a2e4-480f-aafe-6473654b2466",
   "metadata": {
    "tags": []
   },
   "outputs": [],
   "source": [
    "BUCKET_URI=\"gs://prd-196865-0085dltldads-ds-pkgs\"\n",
    "project_id = \"prd-196865-0085dltlda-8b2c85dc\"\n",
    "PIPELINE_ROOT = \"{}/pipeline_root/\".format(BUCKET_URI)\n",
    "EXPERIMENT_NAME = \"test-1\"\n",
    "location = 'us-central1'\n",
    "service_account=\"sa-196865-big-data@prd-196865-0085dltlda-8b2c85dc.iam.gserviceaccount.com\"\n",
    "model_display_name = 'tuned_bison001'"
   ]
  },
  {
   "cell_type": "code",
   "execution_count": 57,
   "id": "ac9dfb7a-4572-4950-99ae-d01b7f66119c",
   "metadata": {
    "tags": []
   },
   "outputs": [],
   "source": [
    "\n",
    "import vertexai\n",
    "from vertexai.language_models import TextGenerationModel,ChatModel, InputOutputTextPair\n",
    "vertexai.init(project=\"prd-196865-0085dltlda-8b2c85dc\", location=\"us-central1\")\n",
    "model = TextGenerationModel.from_pretrained(\"text-bison@001\")"
   ]
  },
  {
   "cell_type": "code",
   "execution_count": 58,
   "id": "f336f556-c3f5-453a-8b98-e10f878d8330",
   "metadata": {
    "tags": []
   },
   "outputs": [],
   "source": [
    "\n",
    "import vertexai\n",
    "from vertexai.language_models import TextGenerationModel\n",
    "\n",
    "\n",
    "def list_tuned_models(\n",
    "    project_id,\n",
    "    location,\n",
    ") -> None:\n",
    "    \"\"\"List tuned models.\"\"\"\n",
    "\n",
    "    vertexai.init(project=project_id, location=location)\n",
    "    model = TextGenerationModel.from_pretrained(\"text-bison@002\")\n",
    "    tuned_model_names = model.list_tuned_model_names()\n",
    "    print(tuned_model_names)\n",
    "\n",
    "    return tuned_model_names\n"
   ]
  },
  {
   "cell_type": "code",
   "execution_count": 78,
   "id": "58cb0088-a916-4b55-93df-144165487e06",
   "metadata": {
    "tags": []
   },
   "outputs": [
    {
     "name": "stdout",
     "output_type": "stream",
     "text": [
      "[]\n"
     ]
    },
    {
     "data": {
      "text/plain": [
       "[]"
      ]
     },
     "execution_count": 78,
     "metadata": {},
     "output_type": "execute_result"
    }
   ],
   "source": [
    "list_tuned_models(project_id,location)"
   ]
  },
  {
   "cell_type": "code",
   "execution_count": 85,
   "id": "0d64df40-8fe1-409c-97c0-7ea519f1bfc3",
   "metadata": {
    "tags": []
   },
   "outputs": [],
   "source": [
    "# import vertexai\n",
    "# from vertexai.preview.language_models import TextGenerationModel\n",
    "\n",
    "# model = TextGenerationModel.get_tuned_model('tuned_bison001')"
   ]
  },
  {
   "cell_type": "code",
   "execution_count": 66,
   "id": "c3aa6c63-4c40-4c00-adc1-c7c6b56d7a54",
   "metadata": {
    "tags": []
   },
   "outputs": [
    {
     "name": "stdout",
     "output_type": "stream",
     "text": [
      "                                          input_text  \\\n",
      "0  question: How many people live in New York Cit...   \n",
      "1  question: What is the capital of France? conte...   \n",
      "2  question: What is the population of Tokyo? con...   \n",
      "3  question: What is the currency of Australia? c...   \n",
      "4  question: What is the tallest mountain in the ...   \n",
      "5  question: What is the population of India? con...   \n",
      "6  question: What is the largest desert in the wo...   \n",
      "7  question: What is the capital of Brazil? conte...   \n",
      "8  question: What is the population of China? con...   \n",
      "9  question: What is the longest river in the wor...   \n",
      "\n",
      "                 output_text  \n",
      "0      over 8 million people  \n",
      "1                      Paris  \n",
      "2  over 37 million residents  \n",
      "3    Australian Dollar (AUD)  \n",
      "4              Mount Everest  \n",
      "5    over 1.3 billion people  \n",
      "6              Sahara Desert  \n",
      "7                   Brasília  \n",
      "8    over 1.4 billion people  \n",
      "9                 Nile River  \n"
     ]
    }
   ],
   "source": [
    "import pandas as pd\n",
    "\n",
    "data = [\n",
    "    {\"input_text\": \"question: How many people live in New York City? context: New York City is the largest city in the United States, with a population of over 8 million people. It is located in the state of New York, on the northeastern coast of the country. The city is known for its diverse population, iconic skyline, and vibrant culture.\", \"output_text\": \"over 8 million people\"},\n",
    "    {\"input_text\": \"question: What is the capital of France? context: Paris is the capital city of France, located in the northern-central part of the country. It is known for its rich history, art, fashion, and cuisine, and is often referred to as the 'City of Light' or the 'City of Love'.\", \"output_text\": \"Paris\"},\n",
    "    {\"input_text\": \"question: What is the population of Tokyo? context: Tokyo, the capital city of Japan, is the most populous metropolitan area in the world, with over 37 million residents. It is a bustling hub of technology, culture, and commerce, and is known for its efficient public transportation and vibrant city life.\", \"output_text\": \"over 37 million residents\"},\n",
    "    {\"input_text\": \"question: What is the currency of Australia? context: The currency of Australia is the Australian Dollar (AUD). It is abbreviated as '$' or 'AUD', and is divided into 100 smaller units called cents. The Australian Dollar is commonly used for everyday transactions and is one of the most traded currencies in the world.\", \"output_text\": \"Australian Dollar (AUD)\"},\n",
    "    {\"input_text\": \"question: What is the tallest mountain in the world? context: Mount Everest, located in the Himalayas on the border between Nepal and China, is the tallest mountain in the world, standing at a height of 8,848.86 meters (29,031.7 feet) above sea level. It is a popular destination for mountaineers and adventurers seeking to summit the highest peak on Earth.\", \"output_text\": \"Mount Everest\"},\n",
    "    {\"input_text\": \"question: What is the population of India? context: India is the second-most populous country in the world, with a population of over 1.3 billion people. It is located in South Asia and is known for its diverse culture, rich history, and bustling cities.\", \"output_text\": \"over 1.3 billion people\"},\n",
    "    {\"input_text\": \"question: What is the largest desert in the world? context: The Sahara Desert, located in North Africa, is the largest hot desert in the world, covering an area of over 9.2 million square kilometers (3.6 million square miles). It is known for its vast sand dunes, extreme temperatures, and sparse vegetation.\", \"output_text\": \"Sahara Desert\"},\n",
    "    {\"input_text\": \"question: What is the capital of Brazil? context: Brasília is the capital city of Brazil, located in the central-western part of the country. It was founded in 1960 and is known for its modernist architecture and urban planning. Brasília is a UNESCO World Heritage Site and serves as the political and administrative center of Brazil.\", \"output_text\": \"Brasília\"},\n",
    "    {\"input_text\": \"question: What is the population of China? context: China is the most populous country in the world, with a population of over 1.4 billion people. It is located in East Asia and is known for its rich cultural heritage, ancient landmarks, and rapid economic growth.\", \"output_text\": \"over 1.4 billion people\"},\n",
    "    {\"input_text\": \"question: What is the longest river in the world? context: The Nile River, located in northeastern Africa, is widely considered to be the longest river in the world, with a length of approximately 6,650 kilometers (4,130 miles). It is a vital source of water for numerous countries in the region and has played a crucial role in the development of ancient civilizations.\", \"output_text\": \"Nile River\"}\n",
    "]\n",
    "# Convert data to DataFrame\n",
    "df = pd.DataFrame(data)\n",
    "\n",
    "# Display the DataFrame\n",
    "print(df)\n"
   ]
  },
  {
   "cell_type": "code",
   "execution_count": 67,
   "id": "ad95497d-06ba-4897-9db8-c770abf963ce",
   "metadata": {
    "tags": []
   },
   "outputs": [],
   "source": [
    "__file__ = 'text_bison_finetuning.ipynb'\n",
    "__location__ = os.path.realpath(os.path.join(os.getcwd(), os.path.dirname(__file__)))"
   ]
  },
  {
   "cell_type": "code",
   "execution_count": 68,
   "id": "02ffe78c-5e46-459b-b92b-d45592d1028b",
   "metadata": {
    "tags": []
   },
   "outputs": [
    {
     "name": "stderr",
     "output_type": "stream",
     "text": [
      "/var/tmp/ipykernel_594738/3458141666.py:12: DeprecationWarning: output_component_file parameter is deprecated and will eventually be removed. Please use `Compiler().compile()` to compile a component instead.\n",
      "  @component(packages_to_install=['numpy',\n",
      "/var/tmp/ipykernel_594738/3458141666.py:18: DeprecationWarning: output_component_file parameter is deprecated and will eventually be removed. Please use `Compiler().compile()` to compile a component instead.\n",
      "  def tuning(\n"
     ]
    }
   ],
   "source": [
    "import kfp\n",
    "import matplotlib.pyplot as plt\n",
    "import pandas as pd\n",
    "import requests\n",
    "from typing import List, Tuple\n",
    "\n",
    "import os\n",
    "from kfp import dsl\n",
    "from kfp.v2 import compiler\n",
    "from kfp.v2.dsl import (Artifact, Dataset, Input, InputPath, Model, Output,\n",
    "                        OutputPath, ClassificationMetrics, Metrics, component,pipeline)\n",
    "@component(packages_to_install=['numpy',\n",
    "                                'pandas',\n",
    "                                'google-cloud-storage','google-cloud-aiplatform','google-cloud-pipeline-components',\n",
    "                                'gcsfs'],\n",
    "           base_image='python:3.9',\n",
    "           output_component_file=os.path.join(__location__, \"model_finetuning.yaml\"))\n",
    "def tuning(\n",
    "    project_id: str,\n",
    "    location: str,\n",
    "    model_display_name: str,\n",
    "    training_data: list,\n",
    "    train_steps: int = 10,\n",
    ") -> None:\n",
    "    \"\"\"Tune a new model, based on a prompt-response data.\n",
    "\n",
    "    \"training_data\" can be either the GCS URI of a file formatted in JSONL format\n",
    "    (for example: training_data=f'gs://{bucket}/{filename}.jsonl'), or a pandas\n",
    "    DataFrame. Each training example should be JSONL record with two keys, for\n",
    "    example:\n",
    "      {\n",
    "        \"input_text\": ,\n",
    "        \"output_text\": \n",
    "      },\n",
    "    or the pandas DataFame should contain two columns:\n",
    "      ['input_text', 'output_text']\n",
    "    with rows for each training example.\n",
    "\n",
    "    Args:\n",
    "      project_id: GCP Project ID, used to initialize vertexai\n",
    "      location: GCP Region, used to initialize vertexai\n",
    "      model_display_name: Customized Tuned LLM model name.\n",
    "      training_data: GCS URI of jsonl file or pandas dataframe of training data\n",
    "      train_steps: Number of training steps to use when tuning the model.\n",
    "    \"\"\"\n",
    "    import pandas as pd\n",
    "    import vertexai\n",
    "    from vertexai.language_models import TextGenerationModel,ChatModel, InputOutputTextPair\n",
    "    import google.cloud.aiplatform as aiplatform\n",
    "\n",
    "    training_data = pd.DataFrame(training_data)\n",
    "    vertexai.init(project=project_id, location=location)\n",
    "    model = TextGenerationModel.from_pretrained(\"text-bison@001\")\n",
    "    \n",
    "    aiplatform.init(project=project_id, location=location)\n",
    "    model.tune_model(\n",
    "        training_data=training_data,\n",
    "        # Optional:\n",
    "        model_display_name=model_display_name,\n",
    "        train_steps=train_steps,\n",
    "        tuning_job_location=\"us-central1\",\n",
    "        tuned_model_location=location,\n",
    "    )\n",
    "    # endpoint = aiplatform.Endpoint(model._endpoint.resource_name)\n",
    "    # print(endpoint)\n",
    "    # print(model._job.status)"
   ]
  },
  {
   "cell_type": "code",
   "execution_count": null,
   "id": "120214cc-de3a-4925-9876-38911555ab3a",
   "metadata": {},
   "outputs": [],
   "source": []
  },
  {
   "cell_type": "code",
   "execution_count": 69,
   "id": "415c36c9-f864-4a6a-a256-c9712b318c07",
   "metadata": {
    "tags": []
   },
   "outputs": [],
   "source": [
    "from kfp.v2 import compiler\n",
    "from kfp import components\n",
    "finetuning_component = components.load_component_from_file(\n",
    "    os.path.join(__location__,'model_finetuning.yaml'))"
   ]
  },
  {
   "cell_type": "code",
   "execution_count": 70,
   "id": "8f936a79-f623-4142-834d-440f8217d0c8",
   "metadata": {
    "tags": []
   },
   "outputs": [],
   "source": [
    "@pipeline(\n",
    "    name='bison-finetuning',\n",
    "    description='finetuning bison models',\n",
    "    # needs to be changed based on region/project\n",
    "    pipeline_root=PIPELINE_ROOT)\n",
    "def train_pipeline(project_id :str =project_id,location:str=location,\n",
    "                   model_display_name :str=model_display_name,\n",
    "                   training_data:list = data,\n",
    "                   train_steps: int = 10)->None:\n",
    "    my_task = (finetuning_component(project_id=project_id,\n",
    "                                    location=location,\n",
    "                                    model_display_name=model_display_name,\n",
    "                                    training_data = training_data,\n",
    "                                    train_steps=train_steps).set_cpu_limit('16').set_memory_limit('16G'))\n",
    "    # my_task5 = \n",
    "compiler.Compiler().compile(pipeline_func=train_pipeline, package_path=\"fine_tuning.json\")"
   ]
  },
  {
   "cell_type": "code",
   "execution_count": 71,
   "id": "ff37649c-8499-4c84-b82b-110844d0bf42",
   "metadata": {
    "tags": []
   },
   "outputs": [
    {
     "name": "stdout",
     "output_type": "stream",
     "text": [
      "Creating PipelineJob\n",
      "PipelineJob created. Resource name: projects/368070642845/locations/us-central1/pipelineJobs/bison-finetuning-20240301123917\n",
      "To use this PipelineJob in another session:\n",
      "pipeline_job = aiplatform.PipelineJob.get('projects/368070642845/locations/us-central1/pipelineJobs/bison-finetuning-20240301123917')\n",
      "View Pipeline Job:\n",
      "https://console.cloud.google.com/vertex-ai/locations/us-central1/pipelines/runs/bison-finetuning-20240301123917?project=368070642845\n",
      "PipelineJob projects/368070642845/locations/us-central1/pipelineJobs/bison-finetuning-20240301123917 current state:\n",
      "PipelineState.PIPELINE_STATE_RUNNING\n",
      "PipelineJob projects/368070642845/locations/us-central1/pipelineJobs/bison-finetuning-20240301123917 current state:\n",
      "PipelineState.PIPELINE_STATE_RUNNING\n",
      "PipelineJob projects/368070642845/locations/us-central1/pipelineJobs/bison-finetuning-20240301123917 current state:\n",
      "PipelineState.PIPELINE_STATE_RUNNING\n",
      "PipelineJob projects/368070642845/locations/us-central1/pipelineJobs/bison-finetuning-20240301123917 current state:\n",
      "PipelineState.PIPELINE_STATE_RUNNING\n",
      "PipelineJob run completed. Resource name: projects/368070642845/locations/us-central1/pipelineJobs/bison-finetuning-20240301123917\n"
     ]
    }
   ],
   "source": [
    "service_account=\"sa-196865-big-data@prd-196865-0085dltlda-8b2c85dc.iam.gserviceaccount.com\"\n",
    "from google.cloud.aiplatform import pipeline_jobs\n",
    "from google.cloud import aiplatform as vertex_ai\n",
    "vertex_ai.init(project=project_id)\n",
    "\n",
    "job = pipeline_jobs.PipelineJob(\n",
    "    display_name=\"finetuning-pipeline\",\n",
    "    template_path=\"fine_tuning.json\"\n",
    ")\n",
    "job.run(service_account=service_account)"
   ]
  },
  {
   "cell_type": "code",
   "execution_count": null,
   "id": "3302953e-2b40-4f5c-ac62-2d9fa17aafe3",
   "metadata": {
    "tags": []
   },
   "outputs": [],
   "source": [
    "endpoint = aiplatform.Endpoint(model._endpoint.resource_name)"
   ]
  },
  {
   "cell_type": "code",
   "execution_count": 79,
   "id": "95762314-8dec-427f-ad2c-09d18790ed3e",
   "metadata": {
    "tags": []
   },
   "outputs": [
    {
     "data": {
      "text/plain": [
       "['projects/368070642845/locations/us-central1/models/8853230243457007616']"
      ]
     },
     "execution_count": 79,
     "metadata": {},
     "output_type": "execute_result"
    }
   ],
   "source": [
    "import google.cloud.aiplatform as aiplatform\n",
    "from vertexai.preview.language_models import (TextGenerationModel,\n",
    "                                              TuningEvaluationSpec)\n",
    "model = TextGenerationModel.from_pretrained(\"google/text-bison@001\")\n",
    "\n",
    "model.list_tuned_model_names()"
   ]
  },
  {
   "cell_type": "code",
   "execution_count": 82,
   "id": "14d621f2-631b-415d-ada9-18a44e981c98",
   "metadata": {
    "tags": []
   },
   "outputs": [],
   "source": [
    "import vertexai\n",
    "from vertexai.preview.language_models import TextGenerationModel\n",
    "\n",
    "model = TextGenerationModel.get_tuned_model('projects/368070642845/locations/us-central1/models/8853230243457007616')"
   ]
  },
  {
   "cell_type": "code",
   "execution_count": 83,
   "id": "2f1508fd-2625-456d-8ca5-ac40593ebb0a",
   "metadata": {
    "tags": []
   },
   "outputs": [
    {
     "name": "stdout",
     "output_type": "stream",
     "text": [
      "Undeploying Endpoint model: projects/368070642845/locations/us-central1/endpoints/1238835144178008064\n",
      "Undeploy Endpoint model backing LRO: projects/368070642845/locations/us-central1/endpoints/1238835144178008064/operations/2606321979258568704\n",
      "Endpoint model undeployed. Resource name: projects/368070642845/locations/us-central1/endpoints/1238835144178008064\n",
      "Deleting Endpoint : projects/368070642845/locations/us-central1/endpoints/1238835144178008064\n",
      "Delete Endpoint  backing LRO: projects/368070642845/locations/us-central1/operations/4774805199837462528\n",
      "Endpoint deleted. . Resource name: projects/368070642845/locations/us-central1/endpoints/1238835144178008064\n"
     ]
    }
   ],
   "source": [
    "endpoint.undeploy_all()\n",
    "endpoint.delete()"
   ]
  },
  {
   "cell_type": "code",
   "execution_count": 72,
   "id": "4da5b9a8-7ae5-421e-bef9-55a499a043f1",
   "metadata": {
    "tags": []
   },
   "outputs": [
    {
     "name": "stdout",
     "output_type": "stream",
     "text": [
      "                                          input_text  \\\n",
      "0  question: How many people live in New York Cit...   \n",
      "1  question: What is the capital of France? conte...   \n",
      "2  question: What is the population of Tokyo? con...   \n",
      "3  question: What is the currency of Australia? c...   \n",
      "4  question: What is the tallest mountain in the ...   \n",
      "5  question: What is the population of India? con...   \n",
      "6  question: What is the largest desert in the wo...   \n",
      "7  question: What is the capital of Brazil? conte...   \n",
      "8  question: What is the population of China? con...   \n",
      "9  question: What is the longest river in the wor...   \n",
      "\n",
      "                 output_text  \n",
      "0      over 8 million people  \n",
      "1                      Paris  \n",
      "2  over 37 million residents  \n",
      "3    Australian Dollar (AUD)  \n",
      "4              Mount Everest  \n",
      "5    over 1.3 billion people  \n",
      "6              Sahara Desert  \n",
      "7                   Brasília  \n",
      "8    over 1.4 billion people  \n",
      "9                 Nile River  \n"
     ]
    }
   ],
   "source": [
    "import pandas as pd\n",
    "\n",
    "# Read the JSONL file into a DataFrame\n",
    "df = pd.read_json('gs://prd-196865-0085dltlda-8b2c85dc-vertex-pipelines-us-central1/tuned_language_models/text-bison@001/tuned_model_2024-03-01-12-41-20-24777/training_data.jsonl', lines=True)\n",
    "\n",
    "# Display the DataFrame\n",
    "print(df)\n"
   ]
  },
  {
   "cell_type": "code",
   "execution_count": 74,
   "id": "13326509-b08f-4f1b-a9cf-2ed72a0ebaed",
   "metadata": {
    "tags": []
   },
   "outputs": [
    {
     "name": "stdout",
     "output_type": "stream",
     "text": [
      "<google.cloud.aiplatform.models.Endpoint object at 0x7fc38fac6c50> \n",
      "resource name: projects/368070642845/locations/us-central1/endpoints/1238835144178008064\n"
     ]
    }
   ],
   "source": [
    "endpoint = aiplatform.Endpoint('projects/368070642845/locations/us-central1/endpoints/1238835144178008064')\n",
    "print(endpoint)"
   ]
  },
  {
   "cell_type": "code",
   "execution_count": 84,
   "id": "0c053513-2415-403f-ac93-550100966053",
   "metadata": {
    "tags": []
   },
   "outputs": [],
   "source": [
    "import vertexai\n",
    "from vertexai.preview.language_models import TextGenerationModel\n",
    "\n",
    "# model = TextGenerationModel.get_tuned_model('tuned_bison001')"
   ]
  },
  {
   "cell_type": "code",
   "execution_count": 75,
   "id": "32c4ebd9-d448-4917-85be-464a22fb8468",
   "metadata": {
    "tags": []
   },
   "outputs": [],
   "source": [
    "# prompt = 'Hello There'"
   ]
  },
  {
   "cell_type": "code",
   "execution_count": 76,
   "id": "a9d4452a-7f5b-421d-be95-acdd887d0320",
   "metadata": {
    "tags": []
   },
   "outputs": [
    {
     "data": {
      "text/plain": [
       "Prediction(predictions=[{'citationMetadata': None, 'content': '', 'safetyAttributes': {'errors': [252.0], 'blocked': True}}], deployed_model_id='1921504321678082048', model_version_id='1', model_resource_name='projects/368070642845/locations/us-central1/models/8853230243457007616', explanations=None)"
      ]
     },
     "execution_count": 76,
     "metadata": {},
     "output_type": "execute_result"
    }
   ],
   "source": [
    "# model = "
   ]
  }
 ],
 "metadata": {
  "environment": {
   "kernel": "python3",
   "name": "common-cpu.m117",
   "type": "gcloud",
   "uri": "us-docker.pkg.dev/deeplearning-platform-release/gcr.io/base-cpu:m117"
  },
  "kernelspec": {
   "display_name": "Python 3 (Local)",
   "language": "python",
   "name": "python3"
  },
  "language_info": {
   "codemirror_mode": {
    "name": "ipython",
    "version": 3
   },
   "file_extension": ".py",
   "mimetype": "text/x-python",
   "name": "python",
   "nbconvert_exporter": "python",
   "pygments_lexer": "ipython3",
   "version": "3.10.13"
  }
 },
 "nbformat": 4,
 "nbformat_minor": 5
}
