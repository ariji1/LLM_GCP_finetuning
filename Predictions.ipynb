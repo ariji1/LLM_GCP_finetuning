{
 "cells": [
  {
   "cell_type": "code",
   "execution_count": 3,
   "id": "fe04d06a-8760-4ffe-b43b-ad71d4951f56",
   "metadata": {
    "tags": []
   },
   "outputs": [],
   "source": [
    "BUCKET_URI=\"gs://prd-196865-0085dltldads-ds-pkgs\"\n",
    "project_id = \"sbx-196865-genaift-ds-ccd784e6\"\n",
    "PIPELINE_ROOT = \"{}/pipeline_root/\".format(BUCKET_URI)\n",
    "EXPERIMENT_NAME = \"test-1\"\n",
    "location = 'us-central1' #'us-central1' \n",
    "service_account=\"sa-196865-big-data@sbx-196865-genaift-ds-ccd784e6.iam.gserviceaccount.com\"\n",
    "model_display_name = 'tuned_bison002_arijit'"
   ]
  },
  {
   "cell_type": "code",
   "execution_count": 4,
   "id": "22f845a8-0556-41d8-a421-4a96719b4062",
   "metadata": {
    "tags": []
   },
   "outputs": [],
   "source": [
    "import vertexai\n",
    "from vertexai.language_models import TextGenerationModel\n",
    "\n",
    "\n",
    "def list_tuned_models(\n",
    "    project_id,\n",
    "    location,\n",
    ") -> None:\n",
    "    \"\"\"List tuned models.\"\"\"\n",
    "\n",
    "    vertexai.init(project=project_id, location=location)\n",
    "    model = TextGenerationModel.from_pretrained(\"text-bison@002\")\n",
    "    tuned_model_names = model.list_tuned_model_names()\n",
    "    print(tuned_model_names)\n",
    "\n",
    "    return tuned_model_names"
   ]
  },
  {
   "cell_type": "code",
   "execution_count": 5,
   "id": "bfd9df93-7fe9-4018-aa86-501b12fcdb64",
   "metadata": {
    "tags": []
   },
   "outputs": [
    {
     "name": "stdout",
     "output_type": "stream",
     "text": [
      "['projects/81995035742/locations/us-central1/models/2389160701831675904', 'projects/81995035742/locations/us-central1/models/3962039573155938304']\n"
     ]
    },
    {
     "data": {
      "text/plain": [
       "['projects/81995035742/locations/us-central1/models/2389160701831675904',\n",
       " 'projects/81995035742/locations/us-central1/models/3962039573155938304']"
      ]
     },
     "execution_count": 5,
     "metadata": {},
     "output_type": "execute_result"
    }
   ],
   "source": [
    "list_tuned_models(project_id,location)"
   ]
  },
  {
   "cell_type": "code",
   "execution_count": 6,
   "id": "cb3c670f-e0b7-4ca6-a391-d5baf1faa5b4",
   "metadata": {
    "tags": []
   },
   "outputs": [],
   "source": [
    "import vertexai\n",
    "from vertexai.language_models import TextGenerationModel\n",
    "\n",
    "endpoint = 'projects/81995035742/locations/us-central1/models/2389160701831675904'\n",
    "model = TextGenerationModel.get_tuned_model(endpoint)"
   ]
  },
  {
   "cell_type": "code",
   "execution_count": 17,
   "id": "e8492531-fa2d-457e-987e-79d2fc2d7c0c",
   "metadata": {
    "tags": []
   },
   "outputs": [],
   "source": [
    "test_q_1 =  \"\"\" \n",
    "Generate a market financial narrative using the context below. \n",
    "Context: \n",
    "Market | Revenue | Revenue to Plan | Sales | Sales to Plan | Profit | Profit to Plan | Costs | Costs to Plan | Backlog | Backlog to Plan \n",
    "North America | $5.3M | -12% | $3.4M | 9% | $4.9M | 5% | $2.1M | 15% | $7.2M | 30% \n",
    "Europe | $6.7M | 25% | $7.1M | -20% | $8.3M | -35% | $4.8M | -25% | $5.9M | -10% \n",
    "Asia | $8.2M | -30% | $9.8M | 15% | $7.6M | 20% | $6.3M | 10% | $4.5M | -18% \n",
    "\"\"\" \n",
    "\n",
    "test_q_2 = \"\"\" \n",
    "\n",
    "Write a financial report of Industry Groups based on the context below. \n",
    "\n",
    "Context: \n",
    "\n",
    "Industry Group \n",
    "\n",
    "Industry Group | Bookings ($) | Bookings YoY (%) | Revenue ($) | Revenue YoY (%) | Profit ($) | Profit YoY (%) | Sales ($) | Sales YoY (%) \n",
    "\n",
    "Products | $14.3M | -1.2% | $6.2M | -4.1% | $3.6M | -2.9% | $6.0M | 0.3% \n",
    "\n",
    "Resources | $13.7M | 2.8% | $4.8M | 9.5% | $4.5M | 4.9% | $3.6M | -14.4% \n",
    "\n",
    "H&PS | $8.1M | 5.9% | $6.6M | -2.9% | $4.1M | -5.4% | $2.0M | -7.1% \n",
    "\n",
    "Financial Services | $11.5M | 4.0% | $2.6M | 7.3% | $2.3M | 2.7% | $1.4M | -12.6% \n",
    "\n",
    "CMT | $8.1M | 6.0% | $7.7M | -3.9% | $5.2M | -6.5% | $3.1M | -8.2% \"\"\"\n",
    "\n",
    "test_q_3 = \"\"\"Generate a financial report for the industry sales at Accenture based on the context below. \n",
    "Context: \n",
    "Industries \n",
    "Industry | Bookings ($)  |  Bookings YoY (%) | Revenue ($) | Revenue YoY (%) | Profit ($) | Profit YoY (%) | Sales ($) | Sales YoY (%) \n",
    "Aerospace & Defense | $14.2M | -2.8% | $7.2M | 15.9% | $1.1M | -12.6% | $6.2M | -13.3% \n",
    "Automotive | $12.6M | 2.4% | $5.1M | 13.6% | $5.0M | 11.4% | $4.7M | 12.8% \n",
    "Banking | $12.5M | -7.3% | $9.5M | 11.2% | $4.4M | 2.7% | $3.9M | 13.4% \n",
    "Capital Markets | $6.9M | -5.2% | $6.5M | 18.8% | $2.7M | -8.6% | $3.6M | 7.6% \n",
    "Chemicals | $10.2M | -6.6% | $9.3M | 14.5% | $2.6M | 2.8% | $2.8M | -2.1% \n",
    "Communications & Media | $13.3M | 3.8% | $7.6M | 4.7% | $4.7M | 3.4% | $6.6M | 6.9% \n",
    "Consumer Goods & Services | $7.2M | -6.6% | $6.4M | -13.4% | $2.4M | -8.9% | $2.0M | 13.4% \n",
    "Energy | $9.3M | -4.0% | $9.7M | -1.6% | $2.2M | -13.4% | $2.8M | -2.8% \n",
    "Health | $9.6M | 1.2% | $5.2M | 13.4% | $1.6M | -0.2% | $7.9M | 10.0% \n",
    "High Tech | $12.8M | -2.1% | 7.6M | -18.5% | $2.9M | -14.8% | $4.7M | 14.1% \n",
    "Industrial | $11.0M | -4.9% | $8.9M | 5.9% | $4.7M | 5.1% | $3.0M | 2.9% \n",
    "Insurance | $10.5M | -2.6% | $4.9M | 5.1% | $2.1M | 8.6% | $7.2M | 9.4% \n",
    "Life Sciences | $6.0M | 4.6% | $5.5M | -8.1% | $3.1M | -14.7% | $5.8M | 9.5% \n",
    "Natural Resources | $5.8M | -2.2% | $8.0M | 2.1% | $1.1M | 7.8% | $6.3M | 14.4% \n",
    "Public Service | $13.3M | 7.1% | $9.4M | -14.4% | $3.5M | -8.0% | $4.6M | -14.2% \n",
    "Retail | $10.4M | -5.5% | $4.0M | 6.2% | $3.0M | -10.8% | $7.7M | -5.5% \n",
    "Software & Platforms | $8.6M | 2.4% | $7.0M | 11.6% | $4.8M | 10.9% | $3.8M | 10.8% \n",
    "Travel | $12.2M | 5.2% | $9.3M | -10.7% | $2.5M | -1.6% | $4M | 4.5% \n",
    "US Federal Government | $5.4M | 9.3%  | $6.1M | 19.0% | $2.6M | 14.6% | $7.9M | -5.1% \n",
    "Utilities | $9.0M | -9.5%  | $5.5M | -18.6% | 3.8M | 4.8% | $3.3M | 1.6% \n",
    "\"\"\""
   ]
  },
  {
   "cell_type": "code",
   "execution_count": 39,
   "id": "f3423f93-3d74-4f05-8f35-fadad1562f87",
   "metadata": {
    "tags": []
   },
   "outputs": [],
   "source": [
    "def LLMCall(question,model,temperature = 0.3):\n",
    "    parameters = {\n",
    "    \"max_output_tokens\": 1024,\n",
    "    \"temperature\": temperature,\n",
    "    \"top_p\": 0.8,\n",
    "    \"top_k\": 1\n",
    "    }\n",
    "    prompt_entry = \"Assume you are an expert at finance reporting in Accenture, you work in the C suite. Your job is to write verbose and crisp financial summaries based on the information provided to you.\"\n",
    "    prompt = f\"{prompt_entry} here is the question with some information {question}\"\n",
    "    # model = TextGenerationModel.from_pretrained(model)\n",
    "    response = model.predict(\n",
    "    prompt,\n",
    "    **parameters\n",
    "    )\n",
    "    return response.text.strip(\"\\n\")"
   ]
  },
  {
   "cell_type": "code",
   "execution_count": 42,
   "id": "b782d2b4-088b-4407-bea1-5601ac361c78",
   "metadata": {
    "tags": []
   },
   "outputs": [],
   "source": [
    "response = LLMCall(test_q_3,model=model,temperature=0.5)"
   ]
  },
  {
   "cell_type": "code",
   "execution_count": 43,
   "id": "538c74fc-11de-4a35-85cc-e77fb86d577c",
   "metadata": {
    "tags": []
   },
   "outputs": [
    {
     "data": {
      "text/plain": [
       "\" **Accenture Industry Sales Report**\\n\\n**Overview**\\n\\nAccenture's industry sales experienced a mixed performance in the recent quarter, with some sectors showing growth while others faced challenges. Overall, bookings declined by 2.8% YoY to $14.2M, while revenue increased by 15.9% YoY to $7.2M. Profitability was impacted by various factors, resulting in a 12.6% YoY decrease in profit to $1.1M. Sales also declined by 13.3% YoY to $6.2M.\\n\\n**Industry-Specific Analysis**\\n\\n* **Aerospace & Defense:** Bookings declined by 2.8% YoY, revenue increased by 15.9% YoY, profit decreased by 12.6% YoY, and sales decreased by 13.3% YoY.\\n\\n* **Automotive:** Bookings increased by 2.4% YoY, revenue increased by 13.6% YoY, profit increased by 11.4% YoY, and sales increased by 12.8% YoY.\\n\\n* **Banking:** Bookings declined by 7.3% YoY, revenue increased by 11.2% YoY, profit increased by 2.7% YoY, and sales increased by 13.4% YoY.\\n\\n* **Capital Markets:** Bookings declined by 5.2% YoY, revenue increased by 18.8% YoY, profit decreased by 8.6% YoY, and sales increased by 7.6% YoY.\\n\\n* **Chemicals:** Bookings declined by 6.6% YoY, revenue increased by 14.5% YoY, profit increased by 2.8% YoY, and sales decreased by 2.1% YoY.\\n\\n* **Communications & Media:** Bookings increased by 3.8% YoY, revenue increased by 4.7% YoY, profit increased by 3.4% YoY, and sales increased by 6.9% YoY.\\n\\n* **Consumer Goods & Services:** Bookings declined by 6.6% YoY, revenue decreased by 13.4% YoY, profit decreased by 8.9% YoY, and sales increased by 13.4% YoY.\\n\\n* **Energy:** Bookings declined by 4.0% YoY, revenue decreased by 1.6% YoY, profit decreased by 13.4% YoY, and sales decreased by 2.8% YoY.\\n\\n* **Health:** Bookings increased by 1.2% YoY, revenue increased by 13.4% YoY, profit decreased by 0.2% YoY, and sales increased by 10.0% YoY.\\n\\n* **High Tech:** Bookings declined by 2.1% YoY, revenue decreased by 18.5% YoY, profit decreased by 14.8% YoY, and sales increased by 14.1% YoY.\\n\\n* **Industrial:** Bookings declined by 4.9% YoY, revenue increased by 5.9% YoY, profit increased by 5.1% YoY, and sales increased by 2.9% YoY.\\n\\n* **Insurance:** Bookings declined by 2.6% YoY, revenue increased by 5.1% YoY, profit increased by 8.6% YoY, and sales increased by 9.4% YoY.\\n\\n* **Life Sciences:** Bookings increased by 4.6% YoY, revenue decreased by 8.1% YoY, profit decreased by 14.7% YoY, and sales increased by 9.5% YoY.\\n\\n* **Natural Resources:** Bookings declined by 2.2% YoY, revenue increased by 2.1% YoY, profit increased by 7.8% YoY, and sales increased by 14.4% YoY.\\n\\n* **Public Service:** Bookings increased by 7.1% YoY, revenue decreased by 14.4% YoY, profit decreased by 8.0% YoY, and sales decreased by 14.2% YoY.\\n\\n* **Retail:** Bookings declined by 5.5% YoY, revenue increased by 6.2% YoY, profit decreased by 10.8% YoY, and sales decreased by 5.5% YoY.\\n\\n* **Software & Platforms:** Bookings increased by 2.4% YoY, revenue increased by 11.6% YoY, profit increased by 10.9% YoY, and sales increased by 10.8% YoY.\\n\\n*\""
      ]
     },
     "execution_count": 43,
     "metadata": {},
     "output_type": "execute_result"
    }
   ],
   "source": [
    "response"
   ]
  }
 ],
 "metadata": {
  "environment": {
   "kernel": "python3",
   "name": "common-gpu.m116",
   "type": "gcloud",
   "uri": "gcr.io/deeplearning-platform-release/base-gpu:m116"
  },
  "kernelspec": {
   "display_name": "Python 3",
   "language": "python",
   "name": "python3"
  },
  "language_info": {
   "codemirror_mode": {
    "name": "ipython",
    "version": 3
   },
   "file_extension": ".py",
   "mimetype": "text/x-python",
   "name": "python",
   "nbconvert_exporter": "python",
   "pygments_lexer": "ipython3",
   "version": "3.10.13"
  }
 },
 "nbformat": 4,
 "nbformat_minor": 5
}
