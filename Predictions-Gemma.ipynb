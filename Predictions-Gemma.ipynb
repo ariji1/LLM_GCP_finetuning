{
 "cells": [
  {
   "cell_type": "code",
   "execution_count": 18,
   "id": "fe04d06a-8760-4ffe-b43b-ad71d4951f56",
   "metadata": {
    "tags": []
   },
   "outputs": [
    {
     "data": {
      "application/vnd.jupyter.widget-view+json": {
       "model_id": "a365eda4c02e4f87984a48f4ed67471b",
       "version_major": 2,
       "version_minor": 0
      },
      "text/plain": [
       "config.json:   0%|          | 0.00/665 [00:00<?, ?B/s]"
      ]
     },
     "metadata": {},
     "output_type": "display_data"
    },
    {
     "data": {
      "application/vnd.jupyter.widget-view+json": {
       "model_id": "2038914159c94c26b30dd4cc2909abc7",
       "version_major": 2,
       "version_minor": 0
      },
      "text/plain": [
       "model.safetensors.index.json:   0%|          | 0.00/20.9k [00:00<?, ?B/s]"
      ]
     },
     "metadata": {},
     "output_type": "display_data"
    },
    {
     "data": {
      "application/vnd.jupyter.widget-view+json": {
       "model_id": "5b021e79f7574288b6df4b9a71413902",
       "version_major": 2,
       "version_minor": 0
      },
      "text/plain": [
       "Downloading shards:   0%|          | 0/4 [00:00<?, ?it/s]"
      ]
     },
     "metadata": {},
     "output_type": "display_data"
    },
    {
     "data": {
      "application/vnd.jupyter.widget-view+json": {
       "model_id": "10d0dfc02e2c4acb93dd3664cdedd706",
       "version_major": 2,
       "version_minor": 0
      },
      "text/plain": [
       "model-00001-of-00004.safetensors:   0%|          | 0.00/5.00G [00:00<?, ?B/s]"
      ]
     },
     "metadata": {},
     "output_type": "display_data"
    },
    {
     "data": {
      "application/vnd.jupyter.widget-view+json": {
       "model_id": "f1039b9b2eaf4e3d9d6ca0ac05570de2",
       "version_major": 2,
       "version_minor": 0
      },
      "text/plain": [
       "model-00002-of-00004.safetensors:   0%|          | 0.00/4.98G [00:00<?, ?B/s]"
      ]
     },
     "metadata": {},
     "output_type": "display_data"
    },
    {
     "data": {
      "application/vnd.jupyter.widget-view+json": {
       "model_id": "ecc823ece8864fe3b2ee375cd0d71d59",
       "version_major": 2,
       "version_minor": 0
      },
      "text/plain": [
       "model-00003-of-00004.safetensors:   0%|          | 0.00/4.98G [00:00<?, ?B/s]"
      ]
     },
     "metadata": {},
     "output_type": "display_data"
    },
    {
     "data": {
      "application/vnd.jupyter.widget-view+json": {
       "model_id": "877b80c0504d4a53ae7b0e065b08bf9a",
       "version_major": 2,
       "version_minor": 0
      },
      "text/plain": [
       "model-00004-of-00004.safetensors:   0%|          | 0.00/2.11G [00:00<?, ?B/s]"
      ]
     },
     "metadata": {},
     "output_type": "display_data"
    },
    {
     "data": {
      "application/vnd.jupyter.widget-view+json": {
       "model_id": "c02a797003594b50bd377bbc79adb2ae",
       "version_major": 2,
       "version_minor": 0
      },
      "text/plain": [
       "Loading checkpoint shards:   0%|          | 0/4 [00:00<?, ?it/s]"
      ]
     },
     "metadata": {},
     "output_type": "display_data"
    },
    {
     "data": {
      "application/vnd.jupyter.widget-view+json": {
       "model_id": "d6a94e9c503c46b7bc82ce59f1e5949e",
       "version_major": 2,
       "version_minor": 0
      },
      "text/plain": [
       "generation_config.json:   0%|          | 0.00/132 [00:00<?, ?B/s]"
      ]
     },
     "metadata": {},
     "output_type": "display_data"
    },
    {
     "data": {
      "application/vnd.jupyter.widget-view+json": {
       "model_id": "82df759ebfaf4d12980524fb9f39f7cb",
       "version_major": 2,
       "version_minor": 0
      },
      "text/plain": [
       "tokenizer_config.json:   0%|          | 0.00/2.16k [00:00<?, ?B/s]"
      ]
     },
     "metadata": {},
     "output_type": "display_data"
    },
    {
     "data": {
      "application/vnd.jupyter.widget-view+json": {
       "model_id": "0ad222d68a8f456dafd764f5896676f0",
       "version_major": 2,
       "version_minor": 0
      },
      "text/plain": [
       "tokenizer.model:   0%|          | 0.00/4.24M [00:00<?, ?B/s]"
      ]
     },
     "metadata": {},
     "output_type": "display_data"
    },
    {
     "data": {
      "application/vnd.jupyter.widget-view+json": {
       "model_id": "1faf81ff96764cb3b2d536d42ebf1aa8",
       "version_major": 2,
       "version_minor": 0
      },
      "text/plain": [
       "tokenizer.json:   0%|          | 0.00/17.5M [00:00<?, ?B/s]"
      ]
     },
     "metadata": {},
     "output_type": "display_data"
    },
    {
     "data": {
      "application/vnd.jupyter.widget-view+json": {
       "model_id": "e09cb77ea4f84bd4a75a0b214817a221",
       "version_major": 2,
       "version_minor": 0
      },
      "text/plain": [
       "special_tokens_map.json:   0%|          | 0.00/522 [00:00<?, ?B/s]"
      ]
     },
     "metadata": {},
     "output_type": "display_data"
    }
   ],
   "source": [
    "import torch\n",
    "from transformers import AutoTokenizer, AutoModelForCausalLM, BitsAndBytesConfig\n",
    "model_id = \"ariji1/gemma-Code-Instruct-Finetune-acn\"\n",
    "# model_id = \"google/gemma-7b\"\n",
    "# model_id = \"google/gemma-2b-it\"\n",
    "# model_id = \"google/gemma-2b\"\n",
    "bnb_config = BitsAndBytesConfig(\n",
    "    load_in_4bit=True,\n",
    "    bnb_4bit_use_double_quant=True,\n",
    "    bnb_4bit_quant_type=\"nf4\",\n",
    "    bnb_4bit_compute_dtype=torch.bfloat16\n",
    ")\n",
    "\n",
    "model = AutoModelForCausalLM.from_pretrained(model_id, quantization_config=bnb_config, device_map={\"\":0})\n",
    "tokenizer = AutoTokenizer.from_pretrained(model_id, add_eos_token=True)"
   ]
  },
  {
   "cell_type": "code",
   "execution_count": 14,
   "id": "83359295-8ec0-45c2-be6b-25943a1ae5d9",
   "metadata": {
    "tags": []
   },
   "outputs": [],
   "source": [
    "test_q_1 =  \"\"\" \n",
    "Generate a market financial narrative using the context below. \n",
    "Context: \n",
    "Market | Revenue | Revenue to Plan | Sales | Sales to Plan | Profit | Profit to Plan | Costs | Costs to Plan | Backlog | Backlog to Plan \n",
    "North America | $5.3M | -12% | $3.4M | 9% | $4.9M | 5% | $2.1M | 15% | $7.2M | 30% \n",
    "Europe | $6.7M | 25% | $7.1M | -20% | $8.3M | -35% | $4.8M | -25% | $5.9M | -10% \n",
    "Asia | $8.2M | -30% | $9.8M | 15% | $7.6M | 20% | $6.3M | 10% | $4.5M | -18% \n",
    "\"\"\" \n",
    "\n",
    "test_q_2 = \"\"\" \n",
    "\n",
    "Assume you are a C suite executive working for Accenture. Write a financial report of Industry Groups based on the context below. Do not regurgitate the table. Create a crisp and detailed report with correct numbers in few words.\n",
    "\n",
    "Context: \n",
    "\n",
    "Industry Group \n",
    "\n",
    "Industry Group | Bookings ($) | Bookings YoY (%) | Revenue ($) | Revenue YoY (%) | Profit ($) | Profit YoY (%) | Sales ($) | Sales YoY (%) \n",
    "\n",
    "Products | $14.3M | -1.2% | $6.2M | -4.1% | $3.6M | -2.9% | $6.0M | 0.3% \n",
    "\n",
    "Resources | $13.7M | 2.8% | $4.8M | 9.5% | $4.5M | 4.9% | $3.6M | -14.4% \n",
    "\n",
    "H&PS | $8.1M | 5.9% | $6.6M | -2.9% | $4.1M | -5.4% | $2.0M | -7.1% \n",
    "\n",
    "Financial Services | $11.5M | 4.0% | $2.6M | 7.3% | $2.3M | 2.7% | $1.4M | -12.6% \n",
    "\n",
    "CMT | $8.1M | 6.0% | $7.7M | -3.9% | $5.2M | -6.5% | $3.1M | -8.2% \"\"\"\n",
    "\n",
    "test_q_3 = \"\"\"Assume you are a C suite executive working for Accenture. Write a financial report for the industry sales at Accenture based on the context below. Do not regurgitate the table. Create a crisp and detailed report with correct numbers in few words.\n",
    "Context: \n",
    "Industries \n",
    "Industry | Bookings ($)  |  Bookings YoY (%) | Revenue ($) | Revenue YoY (%) | Profit ($) | Profit YoY (%) | Sales ($) | Sales YoY (%) \n",
    "Aerospace & Defense | $14.2M | -2.8% | $7.2M | 15.9% | $1.1M | -12.6% | $6.2M | -13.3% \n",
    "Automotive | $12.6M | 2.4% | $5.1M | 13.6% | $5.0M | 11.4% | $4.7M | 12.8% \n",
    "Banking | $12.5M | -7.3% | $9.5M | 11.2% | $4.4M | 2.7% | $3.9M | 13.4% \n",
    "Capital Markets | $6.9M | -5.2% | $6.5M | 18.8% | $2.7M | -8.6% | $3.6M | 7.6% \n",
    "Chemicals | $10.2M | -6.6% | $9.3M | 14.5% | $2.6M | 2.8% | $2.8M | -2.1% \n",
    "Communications & Media | $13.3M | 3.8% | $7.6M | 4.7% | $4.7M | 3.4% | $6.6M | 6.9% \n",
    "Consumer Goods & Services | $7.2M | -6.6% | $6.4M | -13.4% | $2.4M | -8.9% | $2.0M | 13.4% \n",
    "Energy | $9.3M | -4.0% | $9.7M | -1.6% | $2.2M | -13.4% | $2.8M | -2.8% \n",
    "Health | $9.6M | 1.2% | $5.2M | 13.4% | $1.6M | -0.2% | $7.9M | 10.0% \n",
    "High Tech | $12.8M | -2.1% | 7.6M | -18.5% | $2.9M | -14.8% | $4.7M | 14.1% \n",
    "Industrial | $11.0M | -4.9% | $8.9M | 5.9% | $4.7M | 5.1% | $3.0M | 2.9% \n",
    "Insurance | $10.5M | -2.6% | $4.9M | 5.1% | $2.1M | 8.6% | $7.2M | 9.4% \n",
    "Life Sciences | $6.0M | 4.6% | $5.5M | -8.1% | $3.1M | -14.7% | $5.8M | 9.5% \n",
    "Natural Resources | $5.8M | -2.2% | $8.0M | 2.1% | $1.1M | 7.8% | $6.3M | 14.4% \n",
    "Public Service | $13.3M | 7.1% | $9.4M | -14.4% | $3.5M | -8.0% | $4.6M | -14.2% \n",
    "Retail | $10.4M | -5.5% | $4.0M | 6.2% | $3.0M | -10.8% | $7.7M | -5.5% \n",
    "Software & Platforms | $8.6M | 2.4% | $7.0M | 11.6% | $4.8M | 10.9% | $3.8M | 10.8% \n",
    "Travel | $12.2M | 5.2% | $9.3M | -10.7% | $2.5M | -1.6% | $4M | 4.5% \n",
    "US Federal Government | $5.4M | 9.3%  | $6.1M | 19.0% | $2.6M | 14.6% | $7.9M | -5.1% \n",
    "Utilities | $9.0M | -9.5%  | $5.5M | -18.6% | 3.8M | 4.8% | $3.3M | 1.6% \n",
    "\"\"\""
   ]
  },
  {
   "cell_type": "code",
   "execution_count": 19,
   "id": "1cc7b4b2-3e0d-4998-b869-fddf82906ebd",
   "metadata": {
    "tags": []
   },
   "outputs": [],
   "source": [
    "def get_completion(query: str, model, tokenizer) -> str:\n",
    "    device = \"cuda:0\"\n",
    "    prompt_template = \"\"\"\n",
    "    <start_of_turn>user\n",
    "    Below is an instruction that describes a task. Write a response that appropriately completes the request.\n",
    "    {query}\n",
    "    <end_of_turn>\\n<start_of_turn>model\n",
    "\n",
    "\n",
    "    \"\"\"\n",
    "    prompt = prompt_template.format(query=query)\n",
    "\n",
    "    encodeds = tokenizer(prompt, return_tensors=\"pt\", add_special_tokens=True)\n",
    "\n",
    "    model_inputs = encodeds.to(device)\n",
    "\n",
    "    generated_ids = model.generate(**model_inputs, max_new_tokens=1000, do_sample=True, pad_token_id=tokenizer.eos_token_id)\n",
    "    # decoded = tokenizer.batch_decode(generated_ids)\n",
    "    decoded = tokenizer.decode(generated_ids[0], skip_special_tokens=True)\n",
    "    return (decoded)"
   ]
  },
  {
   "cell_type": "code",
   "execution_count": 21,
   "id": "4eb70672-9e78-4dc6-968f-8b74482b491e",
   "metadata": {
    "tags": []
   },
   "outputs": [
    {
     "name": "stderr",
     "output_type": "stream",
     "text": [
      "A decoder-only architecture is being used, but right-padding was detected! For correct generation results, please set `padding_side='left'` when initializing the tokenizer.\n"
     ]
    },
    {
     "name": "stdout",
     "output_type": "stream",
     "text": [
      "\n",
      "    user\n",
      "    Below is an instruction that describes a task. Write a response that appropriately completes the request.\n",
      "     \n",
      "\n",
      "Assume you are a C suite executive working for Accenture. Write a financial report of Industry Groups based on the context below. Do not regurgitate the table. Create a crisp and detailed report with correct numbers.\n",
      "\n",
      "Context: \n",
      "\n",
      "Industry Group \n",
      "\n",
      "Industry Group | Bookings ($) | Bookings YoY (%) | Revenue ($) | Revenue YoY (%) | Profit ($) | Profit YoY (%) | Sales ($) | Sales YoY (%) \n",
      "\n",
      "Products | $14.3M | -1.2% | $6.2M | -4.1% | $3.6M | -2.9% | $6.0M | 0.3% \n",
      "\n",
      "Resources | $13.7M | 2.8% | $4.8M | 9.5% | $4.5M | 4.9% | $3.6M | -14.4% \n",
      "\n",
      "H&PS | $8.1M | 5.9% | $6.6M | -2.9% | $4.1M | -5.4% | $2.0M | -7.1% \n",
      "\n",
      "Financial Services | $11.5M | 4.0% | $2.6M | 7.3% | $2.3M | 2.7% | $1.4M | -12.6% \n",
      "\n",
      "CMT | $8.1M | 6.0% | $7.7M | -3.9% | $5.2M | -6.5% | $3.1M | -8.2% \n",
      "    \n",
      "model\n",
      "\n",
      "\n",
      "    \n"
     ]
    }
   ],
   "source": [
    "result = get_completion(query=test_q_2, model=model, tokenizer=tokenizer)\n",
    "print(result)"
   ]
  },
  {
   "cell_type": "code",
   "execution_count": 4,
   "id": "e8492531-fa2d-457e-987e-79d2fc2d7c0c",
   "metadata": {
    "tags": []
   },
   "outputs": [],
   "source": []
  },
  {
   "cell_type": "code",
   "execution_count": 16,
   "id": "b782d2b4-088b-4407-bea1-5601ac361c78",
   "metadata": {
    "tags": []
   },
   "outputs": [
    {
     "ename": "NameError",
     "evalue": "name 'LLMCall' is not defined",
     "output_type": "error",
     "traceback": [
      "\u001b[0;31m---------------------------------------------------------------------------\u001b[0m",
      "\u001b[0;31mNameError\u001b[0m                                 Traceback (most recent call last)",
      "Cell \u001b[0;32mIn[16], line 1\u001b[0m\n\u001b[0;32m----> 1\u001b[0m response \u001b[38;5;241m=\u001b[39m \u001b[43mLLMCall\u001b[49m(test_q_2,model\u001b[38;5;241m=\u001b[39mmodel,temperature\u001b[38;5;241m=\u001b[39m\u001b[38;5;241m0.5\u001b[39m)\n",
      "\u001b[0;31mNameError\u001b[0m: name 'LLMCall' is not defined"
     ]
    }
   ],
   "source": [
    "response = LLMCall(test_q_2,model=model,temperature=0.5)"
   ]
  },
  {
   "cell_type": "code",
   "execution_count": 43,
   "id": "538c74fc-11de-4a35-85cc-e77fb86d577c",
   "metadata": {
    "tags": []
   },
   "outputs": [
    {
     "data": {
      "text/plain": [
       "\" **Accenture Industry Sales Report**\\n\\n**Overview**\\n\\nAccenture's industry sales experienced a mixed performance in the recent quarter, with some sectors showing growth while others faced challenges. Overall, bookings declined by 2.8% YoY to $14.2M, while revenue increased by 15.9% YoY to $7.2M. Profitability was impacted by various factors, resulting in a 12.6% YoY decrease in profit to $1.1M. Sales also declined by 13.3% YoY to $6.2M.\\n\\n**Industry-Specific Analysis**\\n\\n* **Aerospace & Defense:** Bookings declined by 2.8% YoY, revenue increased by 15.9% YoY, profit decreased by 12.6% YoY, and sales decreased by 13.3% YoY.\\n\\n* **Automotive:** Bookings increased by 2.4% YoY, revenue increased by 13.6% YoY, profit increased by 11.4% YoY, and sales increased by 12.8% YoY.\\n\\n* **Banking:** Bookings declined by 7.3% YoY, revenue increased by 11.2% YoY, profit increased by 2.7% YoY, and sales increased by 13.4% YoY.\\n\\n* **Capital Markets:** Bookings declined by 5.2% YoY, revenue increased by 18.8% YoY, profit decreased by 8.6% YoY, and sales increased by 7.6% YoY.\\n\\n* **Chemicals:** Bookings declined by 6.6% YoY, revenue increased by 14.5% YoY, profit increased by 2.8% YoY, and sales decreased by 2.1% YoY.\\n\\n* **Communications & Media:** Bookings increased by 3.8% YoY, revenue increased by 4.7% YoY, profit increased by 3.4% YoY, and sales increased by 6.9% YoY.\\n\\n* **Consumer Goods & Services:** Bookings declined by 6.6% YoY, revenue decreased by 13.4% YoY, profit decreased by 8.9% YoY, and sales increased by 13.4% YoY.\\n\\n* **Energy:** Bookings declined by 4.0% YoY, revenue decreased by 1.6% YoY, profit decreased by 13.4% YoY, and sales decreased by 2.8% YoY.\\n\\n* **Health:** Bookings increased by 1.2% YoY, revenue increased by 13.4% YoY, profit decreased by 0.2% YoY, and sales increased by 10.0% YoY.\\n\\n* **High Tech:** Bookings declined by 2.1% YoY, revenue decreased by 18.5% YoY, profit decreased by 14.8% YoY, and sales increased by 14.1% YoY.\\n\\n* **Industrial:** Bookings declined by 4.9% YoY, revenue increased by 5.9% YoY, profit increased by 5.1% YoY, and sales increased by 2.9% YoY.\\n\\n* **Insurance:** Bookings declined by 2.6% YoY, revenue increased by 5.1% YoY, profit increased by 8.6% YoY, and sales increased by 9.4% YoY.\\n\\n* **Life Sciences:** Bookings increased by 4.6% YoY, revenue decreased by 8.1% YoY, profit decreased by 14.7% YoY, and sales increased by 9.5% YoY.\\n\\n* **Natural Resources:** Bookings declined by 2.2% YoY, revenue increased by 2.1% YoY, profit increased by 7.8% YoY, and sales increased by 14.4% YoY.\\n\\n* **Public Service:** Bookings increased by 7.1% YoY, revenue decreased by 14.4% YoY, profit decreased by 8.0% YoY, and sales decreased by 14.2% YoY.\\n\\n* **Retail:** Bookings declined by 5.5% YoY, revenue increased by 6.2% YoY, profit decreased by 10.8% YoY, and sales decreased by 5.5% YoY.\\n\\n* **Software & Platforms:** Bookings increased by 2.4% YoY, revenue increased by 11.6% YoY, profit increased by 10.9% YoY, and sales increased by 10.8% YoY.\\n\\n*\""
      ]
     },
     "execution_count": 43,
     "metadata": {},
     "output_type": "execute_result"
    }
   ],
   "source": [
    "response"
   ]
  }
 ],
 "metadata": {
  "environment": {
   "kernel": "python3",
   "name": "common-gpu.m116",
   "type": "gcloud",
   "uri": "gcr.io/deeplearning-platform-release/base-gpu:m116"
  },
  "kernelspec": {
   "display_name": "Python 3",
   "language": "python",
   "name": "python3"
  },
  "language_info": {
   "codemirror_mode": {
    "name": "ipython",
    "version": 3
   },
   "file_extension": ".py",
   "mimetype": "text/x-python",
   "name": "python",
   "nbconvert_exporter": "python",
   "pygments_lexer": "ipython3",
   "version": "3.10.13"
  }
 },
 "nbformat": 4,
 "nbformat_minor": 5
}
